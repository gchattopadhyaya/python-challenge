import os
import csv


# Set path for file
csvpath = os.path.join("..", "Resources", "budget_data.csv")

TotalMonth = 0
#List to store Data
Date = []
Profit_Losses = []

# Open the CSV
with open(csvpath, newline="") as csvfile:
    csvreader = csv.reader(csvfile, delimiter=",")

    for row in csvreader:
        # Add Date
        title.append(row[1])

        # Add Profit_Losses
        price.append(row[2])

        TotalMonth = TotalMonth+1
        

#Print Total Month
print("Total Month Is Simply count of the rows minus header " + TotalMonth + "!")

