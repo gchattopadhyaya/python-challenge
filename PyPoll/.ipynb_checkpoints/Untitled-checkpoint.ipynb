{
 "cells": [
  {
   "cell_type": "code",
   "execution_count": 69,
   "metadata": {},
   "outputs": [
    {
     "name": "stdout",
     "output_type": "stream",
     "text": [
      "Total Month Count: 86\n",
      "Total Profit And Losses Count: 38382578\n",
      "Average Change: -2315.1176470588234\n",
      "Greatest Increase in Profits:Feb-2012 1926159\n",
      "Greatest Decrease in Profits:Sep-2013 -2196167\n"
     ]
    }
   ],
   "source": [
    "# First we'll import the os module\n",
    "# This will allow us to create file paths across operating systems\n",
    "import os\n",
    "\n",
    "# Module for reading CSV files\n",
    "import csv\n",
    "\n",
    "TotalMonth = 0\n",
    "TotalProfitLosses = 0\n",
    "TotalAverageChange = 0\n",
    "AverageChange = 0\n",
    "minpos = 0\n",
    "maxpos = 0\n",
    "Date = []\n",
    "Profit_Losses = []\n",
    "AverageChangeList = []\n",
    "AverageChangeDate = []\n",
    "\n",
    "csvpath = os.path.join('..', 'Resources', 'budget_data.csv')\n",
    "\n",
    "with open(csvpath, newline='') as csvfile:\n",
    "\n",
    "    # CSV reader specifies delimiter and variable that holds contents\n",
    "    csvreader = csv.reader(csvfile, delimiter=',')\n",
    "\n",
    "    for row in csvreader:\n",
    "        Date.append(row[0])\n",
    "        Profit_Losses.append(row[1])\n",
    "        TotalMonth = TotalMonth+1\n",
    "     \n",
    "    #Remove the first element of Date List\n",
    "    Date.pop(0)\n",
    "    print (f\"Total Month Count: {len(Date)}\")\n",
    "    \n",
    "    #Remove the first element of the Profit and Losses list\n",
    "    Profit_Losses.pop(0)\n",
    "    for element in Profit_Losses:\n",
    "            TotalProfitLosses+=int(element)\n",
    "    \n",
    "    print(f\"Total Profit And Losses Count: {TotalProfitLosses}\")\n",
    "\n",
    "    for i in range(len(Profit_Losses)-1):\n",
    "        AverageChangeList.append(int(Profit_Losses[i+1]) - int(Profit_Losses[i]))\n",
    "        AverageChangeDate.append(Date[i+1])\n",
    "        \n",
    "    for element in AverageChangeList:\n",
    "        TotalAverageChange+=int(element)\n",
    "        \n",
    "    AverageChange = TotalAverageChange/len(AverageChangeList)\n",
    "    \n",
    "    print(f\"Average Change: {AverageChange}\")\n",
    "    \n",
    "    maxpos = AverageChangeList.index(max(AverageChangeList)) \n",
    "    print(f\"Greatest Increase in Profits:{AverageChangeDate[maxpos]} {max(AverageChangeList)}\")\n",
    "    \n",
    "    \n",
    "    minpos = AverageChangeList.index(min(AverageChangeList))  \n",
    "    print(f\"Greatest Decrease in Profits:{AverageChangeDate[minpos]} {min(AverageChangeList)}\")\n",
    "     \n",
    "    "
   ]
  },
  {
   "cell_type": "code",
   "execution_count": null,
   "metadata": {},
   "outputs": [],
   "source": []
  },
  {
   "cell_type": "code",
   "execution_count": null,
   "metadata": {},
   "outputs": [],
   "source": []
  },
  {
   "cell_type": "code",
   "execution_count": null,
   "metadata": {},
   "outputs": [],
   "source": []
  },
  {
   "cell_type": "code",
   "execution_count": null,
   "metadata": {},
   "outputs": [],
   "source": []
  }
 ],
 "metadata": {
  "kernelspec": {
   "display_name": "Python 3",
   "language": "python",
   "name": "python3"
  },
  "language_info": {
   "codemirror_mode": {
    "name": "ipython",
    "version": 3
   },
   "file_extension": ".py",
   "mimetype": "text/x-python",
   "name": "python",
   "nbconvert_exporter": "python",
   "pygments_lexer": "ipython3",
   "version": "3.7.3"
  }
 },
 "nbformat": 4,
 "nbformat_minor": 2
}
